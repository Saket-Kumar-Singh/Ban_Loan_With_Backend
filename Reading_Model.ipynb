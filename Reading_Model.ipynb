{
  "nbformat": 4,
  "nbformat_minor": 0,
  "metadata": {
    "colab": {
      "provenance": [],
      "authorship_tag": "ABX9TyOKtTDQeyu/bBlQ8SrEJPm8",
      "include_colab_link": true
    },
    "kernelspec": {
      "name": "python3",
      "display_name": "Python 3"
    },
    "language_info": {
      "name": "python"
    }
  },
  "cells": [
    {
      "cell_type": "markdown",
      "metadata": {
        "id": "view-in-github",
        "colab_type": "text"
      },
      "source": [
        "<a href=\"https://colab.research.google.com/github/Saket-Kumar-Singh/Bank_Loan_With_Backend/blob/master/Reading_Model.ipynb\" target=\"_parent\"><img src=\"https://colab.research.google.com/assets/colab-badge.svg\" alt=\"Open In Colab\"/></a>"
      ]
    },
    {
      "cell_type": "code",
      "source": [
        "import pandas as pd\n",
        "filename = r\"loan_model.pkl\"\n",
        "# fle = open(filename, \"rb\")\n",
        "classifier = pd.read_pickle(filename)\n",
        "print(\"Model_Loaded_Succesfully\")\n",
        "# classifier"
      ],
      "metadata": {
        "colab": {
          "base_uri": "https://localhost:8080/"
        },
        "id": "wqCh-l98UIh7",
        "outputId": "004199ea-35a9-44de-ad4a-0baf36de4d3a"
      },
      "execution_count": 3,
      "outputs": [
        {
          "output_type": "stream",
          "name": "stdout",
          "text": [
            "Model_Loaded_Succesfully\n"
          ]
        }
      ]
    }
  ]
}