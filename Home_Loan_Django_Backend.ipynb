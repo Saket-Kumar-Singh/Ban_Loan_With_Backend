{
  "nbformat": 4,
  "nbformat_minor": 0,
  "metadata": {
    "colab": {
      "provenance": [],
      "authorship_tag": "ABX9TyM+5qe6h7gj85VjUbLBZuAE",
      "include_colab_link": true
    },
    "kernelspec": {
      "name": "python3",
      "display_name": "Python 3"
    },
    "language_info": {
      "name": "python"
    }
  },
  "cells": [
    {
      "cell_type": "markdown",
      "metadata": {
        "id": "view-in-github",
        "colab_type": "text"
      },
      "source": [
        "<a href=\"https://colab.research.google.com/github/Saket-Kumar-Singh/Ban_Loan_With_Backend/blob/master/Home_Loan_Django_Backend.ipynb\" target=\"_parent\"><img src=\"https://colab.research.google.com/assets/colab-badge.svg\" alt=\"Open In Colab\"/></a>"
      ]
    },
    {
      "cell_type": "code",
      "execution_count": 61,
      "metadata": {
        "id": "uNIuTifoqyjG"
      },
      "outputs": [],
      "source": [
        "import pandas as pd\n",
        "import numpy as np\n",
        "from sklearn.model_selection import train_test_split\n",
        "from sklearn.metrics import accuracy_score, confusion_matrix\n",
        "from imblearn.over_sampling import SMOTE\n",
        "import warnings\n",
        "from collections import Counter\n",
        "warnings.filterwarnings('ignore')\n",
        "import seaborn as sns\n",
        "import matplotlib.pyplot as plt\n",
        "import keras\n",
        "from keras import Sequential\n",
        "from keras.layers import Dense\n",
        "from sklearn.preprocessing import MinMaxScaler"
      ]
    },
    {
      "cell_type": "markdown",
      "source": [
        "<h2>Getting and Cleaning Data</h2>"
      ],
      "metadata": {
        "id": "d69mE0XG6Jc1"
      }
    },
    {
      "cell_type": "code",
      "source": [
        "df = pd.read_csv('bankloan.csv')\n",
        "df= df.dropna()\n",
        "df = df.drop(\"Loan_ID\", axis = 1)\n",
        "df[\"LoanAmount\"] = (df[\"LoanAmount\"]*1000).astype(int)\n",
        "Counter(df['Loan_Status']) # Since there is a disbalance in number of Y and N we will use SMOT to extend the number of N this will help in increasing accuracy"
      ],
      "metadata": {
        "colab": {
          "base_uri": "https://localhost:8080/"
        },
        "id": "_CmO_XnN02cJ",
        "outputId": "76f5d8ea-da56-4e98-883b-120936ac9d0e"
      },
      "execution_count": 62,
      "outputs": [
        {
          "output_type": "execute_result",
          "data": {
            "text/plain": [
              "Counter({'N': 148, 'Y': 332})"
            ]
          },
          "metadata": {},
          "execution_count": 62
        }
      ]
    },
    {
      "cell_type": "code",
      "source": [
        "pre_y = df[\"Loan_Status\"]\n",
        "pre_x = df.drop(\"Loan_Status\", axis = 1)\n",
        "dm_x = pd.get_dummies(pre_x)\n",
        "dm_y = pre_y.map(dict(Y= 1, N = 0))"
      ],
      "metadata": {
        "id": "YTmrD9Iy2AwX"
      },
      "execution_count": 63,
      "outputs": []
    },
    {
      "cell_type": "markdown",
      "source": [
        "<h2> Preprocessing</h2>"
      ],
      "metadata": {
        "id": "8u9fvS6i6FDS"
      }
    },
    {
      "cell_type": "code",
      "source": [
        "# No we will try to do one Hot encoding\n",
        "smote = SMOTE(sampling_strategy='minority')\n",
        "X1, y = smote.fit_resample(dm_x, dm_y)\n",
        "Sc = MinMaxScaler()\n",
        "X = Sc.fit_transform(X1)\n",
        "X_train, X_test, y_train, y_test = train_test_split(X, y, test_size = 0.2, random_state = 43, shuffle = True)"
      ],
      "metadata": {
        "id": "DgB-W2qR2-eq"
      },
      "execution_count": 64,
      "outputs": []
    },
    {
      "cell_type": "markdown",
      "source": [
        "<h2>Model Making</h2>"
      ],
      "metadata": {
        "id": "AFparLPD6Q2h"
      }
    },
    {
      "cell_type": "code",
      "source": [
        "classifier = Sequential()\n",
        "classifier.add(keras.Input(shape = (X.shape[1], )))\n",
        "classifier.add(Dense(200, activation = \"relu\", kernel_initializer = \"random_normal\"))\n",
        "classifier.add(Dense(400, activation = \"relu\", kernel_initializer = \"random_normal\"))\n",
        "classifier.add(Dense(4, activation = \"relu\", kernel_initializer = \"random_normal\"))\n",
        "classifier.add(Dense(1, activation = \"sigmoid\", kernel_initializer = \"random_normal\"))\n",
        "classifier.compile(optimizer = \"adam\", loss = \"binary_crossentropy\", metrics = [\"accuracy\"])\n",
        "classifier.fit(X_train, y_train, batch_size = 20, epochs = 20, verbose = 0)\n",
        "eval_model = classifier.evaluate(X_test, y_test)\n",
        "eval_model"
      ],
      "metadata": {
        "colab": {
          "base_uri": "https://localhost:8080/"
        },
        "id": "JGzG8v1i5s8p",
        "outputId": "1b108b1a-5dc7-4d80-fd33-9467be6f771e"
      },
      "execution_count": 68,
      "outputs": [
        {
          "output_type": "stream",
          "name": "stdout",
          "text": [
            "5/5 [==============================] - 0s 5ms/step - loss: 0.4297 - accuracy: 0.8571\n"
          ]
        },
        {
          "output_type": "execute_result",
          "data": {
            "text/plain": [
              "[0.42967888712882996, 0.8571428656578064]"
            ]
          },
          "metadata": {},
          "execution_count": 68
        }
      ]
    },
    {
      "cell_type": "code",
      "source": [
        "y_pred = classifier.predict(X_test)\n",
        "y_pred = (y_pred > 0.5)"
      ],
      "metadata": {
        "colab": {
          "base_uri": "https://localhost:8080/"
        },
        "id": "7wE1g_Y8DS_T",
        "outputId": "0269a024-1b46-49a0-da2e-2988fcb70577"
      },
      "execution_count": 69,
      "outputs": [
        {
          "output_type": "stream",
          "name": "stdout",
          "text": [
            "5/5 [==============================] - 0s 4ms/step\n"
          ]
        }
      ]
    },
    {
      "cell_type": "code",
      "source": [
        "# !git add .\n",
        "# !git config --global user.name \"Saket-Kumar-Singh\"\n",
        "# !git config --global user.email \"saketkrsingh37772@gmail.com\"\n",
        "# !git commit -m \"Made Classification Model(#1)\"\n",
        "# !git remote remove origin\n",
        "# !git remote add origin \"https:/Saket-Kumar-Singh:saket20/08@github.com/Saket-Kumar-Singh/Ban_Loan_With_Backend.git\"\n",
        "# !git push origin master"
      ],
      "metadata": {
        "colab": {
          "base_uri": "https://localhost:8080/"
        },
        "id": "eefHkTpWGjAa",
        "outputId": "537c0569-1199-4c4b-bbeb-8e545b6d1aa2"
      },
      "execution_count": 89,
      "outputs": [
        {
          "output_type": "stream",
          "name": "stdout",
          "text": [
            "ssh: Could not resolve hostname https: Name or service not known\r\n",
            "fatal: Could not read from remote repository.\n",
            "\n",
            "Please make sure you have the correct access rights\n",
            "and the repository exists.\n"
          ]
        }
      ]
    },
    {
      "cell_type": "code",
      "source": [
        "from sklearn.metrics import confusion_matrix\n",
        "cm = confusion_matrix(y_test, y_pred)\n",
        "ax = plt.subplot()\n",
        "sns.heatmap(cm, annot = True, ax = ax)\n",
        "\n",
        "ax.set_xlabel(\"Actual\");\n",
        "ax.set_ylabel(\"Predicted\");\n",
        "ax.set_title(\"Confusion_matrix\");\n",
        "ax.xaxis.set_ticklabels(['No', 'Yes']); ax.yaxis.set_ticklabels(['No', 'Yes'])"
      ],
      "metadata": {
        "colab": {
          "base_uri": "https://localhost:8080/",
          "height": 490
        },
        "id": "OWjG2c-sDeYN",
        "outputId": "d9ed89c1-f66d-4a35-95c4-27e481944526"
      },
      "execution_count": 70,
      "outputs": [
        {
          "output_type": "execute_result",
          "data": {
            "text/plain": [
              "[Text(0, 0.5, 'No'), Text(0, 1.5, 'Yes')]"
            ]
          },
          "metadata": {},
          "execution_count": 70
        },
        {
          "output_type": "display_data",
          "data": {
            "text/plain": [
              "<Figure size 640x480 with 2 Axes>"
            ],
            "image/png": "[encoded data removed]"
          },
          "metadata": {}
        }
      ]
    }
  ]
}