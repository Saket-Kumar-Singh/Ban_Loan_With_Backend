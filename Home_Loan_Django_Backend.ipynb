{
  "cells": [
    {
      "cell_type": "markdown",
      "metadata": {
        "colab_type": "text",
        "id": "view-in-github"
      },
      "source": [
        "<a href=\"https://colab.research.google.com/github/Saket-Kumar-Singh/Bank_Loan_With_Backend/blob/master/Home_Loan_Django_Backend.ipynb\" target=\"_parent\"><img src=\"https://colab.research.google.com/assets/colab-badge.svg\" alt=\"Open In Colab\"/></a>"
      ]
    },
    {
      "cell_type": "code",
      "execution_count": 1,
      "metadata": {
        "id": "uNIuTifoqyjG"
      },
      "outputs": [],
      "source": [
        "import pandas as pd\n",
        "import numpy as np\n",
        "from sklearn.model_selection import train_test_split\n",
        "from sklearn.metrics import accuracy_score, confusion_matrix\n",
        "from imblearn.over_sampling import SMOTE\n",
        "import warnings\n",
        "from collections import Counter\n",
        "warnings.filterwarnings('ignore')\n",
        "import seaborn as sns\n",
        "import matplotlib.pyplot as plt\n",
        "import keras\n",
        "from keras import Sequential\n",
        "from keras.layers import Dense\n",
        "from sklearn.preprocessing import MinMaxScaler"
      ]
    },
    {
      "cell_type": "markdown",
      "metadata": {
        "id": "d69mE0XG6Jc1"
      },
      "source": [
        "<h2>Getting and Cleaning Data</h2>"
      ]
    },
    {
      "cell_type": "code",
      "execution_count": 2,
      "metadata": {
        "colab": {
          "base_uri": "https://localhost:8080/"
        },
        "id": "_CmO_XnN02cJ",
        "outputId": "5fe594c6-1299-4c95-8211-281e25d63c25"
      },
      "outputs": [
        {
          "data": {
            "text/plain": [
              "Counter({'N': 148, 'Y': 332})"
            ]
          },
          "execution_count": 2,
          "metadata": {},
          "output_type": "execute_result"
        }
      ],
      "source": [
        "df = pd.read_csv('bankloan.csv')\n",
        "df= df.dropna()\n",
        "df = df.drop(\"Loan_ID\", axis = 1)\n",
        "df[\"LoanAmount\"] = (df[\"LoanAmount\"]*1000).astype(int)\n",
        "Counter(df['Loan_Status']) # Since there is a disbalance in number of Y and N we will use SMOT to extend the number of N this will help in increasing accuracy"
      ]
    },
    {
      "cell_type": "code",
      "execution_count": 3,
      "metadata": {
        "id": "YTmrD9Iy2AwX"
      },
      "outputs": [],
      "source": [
        "pre_y = df[\"Loan_Status\"]\n",
        "pre_x = df.drop(\"Loan_Status\", axis = 1)\n",
        "dm_x = pd.get_dummies(pre_x)\n",
        "dm_y = pre_y.map(dict(Y= 1, N = 0))"
      ]
    },
    {
      "cell_type": "markdown",
      "metadata": {
        "id": "8u9fvS6i6FDS"
      },
      "source": [
        "<h2> Preprocessing</h2>"
      ]
    },
    {
      "cell_type": "code",
      "execution_count": 4,
      "metadata": {
        "id": "DgB-W2qR2-eq"
      },
      "outputs": [],
      "source": [
        "# No we will try to do one Hot encoding\n",
        "smote = SMOTE(sampling_strategy='minority')\n",
        "X1, y = smote.fit_resample(dm_x, dm_y)\n",
        "Sc = MinMaxScaler()\n",
        "X = Sc.fit_transform(X1)\n",
        "X_train, X_test, y_train, y_test = train_test_split(X, y, test_size = 0.2, random_state = 43, shuffle = True)"
      ]
    },
    {
      "cell_type": "markdown",
      "metadata": {
        "id": "AFparLPD6Q2h"
      },
      "source": [
        "<h2>Model Making</h2>"
      ]
    },
    {
      "cell_type": "code",
      "execution_count": 5,
      "metadata": {
        "colab": {
          "base_uri": "https://localhost:8080/"
        },
        "id": "JGzG8v1i5s8p",
        "outputId": "a38028b0-d00f-423b-b749-33e37e386932"
      },
      "outputs": [
        {
          "name": "stdout",
          "output_type": "stream",
          "text": [
            "5/5 [==============================] - 0s 4ms/step - loss: 0.4291 - accuracy: 0.8346\n"
          ]
        },
        {
          "data": {
            "text/plain": [
              "[0.4291083812713623, 0.8345864415168762]"
            ]
          },
          "execution_count": 5,
          "metadata": {},
          "output_type": "execute_result"
        }
      ],
      "source": [
        "classifier = Sequential()\n",
        "classifier.add(keras.Input(shape = (X.shape[1], )))\n",
        "classifier.add(Dense(200, activation = \"relu\", kernel_initializer = \"random_normal\"))\n",
        "classifier.add(Dense(400, activation = \"relu\", kernel_initializer = \"random_normal\"))\n",
        "classifier.add(Dense(4, activation = \"relu\", kernel_initializer = \"random_normal\"))\n",
        "classifier.add(Dense(1, activation = \"sigmoid\", kernel_initializer = \"random_normal\"))\n",
        "classifier.compile(optimizer = \"adam\", loss = \"binary_crossentropy\", metrics = [\"accuracy\"])\n",
        "classifier.fit(X_train, y_train, batch_size = 20, epochs = 20, verbose = 0)\n",
        "eval_model = classifier.evaluate(X_test, y_test)\n",
        "eval_model"
      ]
    },
    {
      "cell_type": "code",
      "execution_count": 6,
      "metadata": {
        "colab": {
          "base_uri": "https://localhost:8080/"
        },
        "id": "7wE1g_Y8DS_T",
        "outputId": "aae375be-8388-4371-f5c5-b7a82ae2ac14"
      },
      "outputs": [
        {
          "name": "stdout",
          "output_type": "stream",
          "text": [
            "5/5 [==============================] - 0s 3ms/step\n"
          ]
        }
      ],
      "source": [
        "y_pred = classifier.predict(X_test)\n",
        "y_pred = (y_pred > 0.5)"
      ]
    },
    {
      "cell_type": "code",
      "execution_count": 7,
      "metadata": {
        "id": "eefHkTpWGjAa"
      },
      "outputs": [],
      "source": [
        "# !git add .\n",
        "# !git config --global user.name \"Saket-Kumar-Singh\"\n",
        "# !git config --global user.email \"saketkrsingh37772@gmail.com\"\n",
        "# !git commit -m \"Made Classification Model(#1)\"\n",
        "# !git remote remove origin\n",
        "# !git remote add origin \"https:/Saket-Kumar-Singh:saket20/08@github.com/Saket-Kumar-Singh/Ban_Loan_With_Backend.git\"\n",
        "# !git push origin master"
      ]
    },
    {
      "cell_type": "code",
      "execution_count": 8,
      "metadata": {
        "colab": {
          "base_uri": "https://localhost:8080/",
          "height": 490
        },
        "id": "OWjG2c-sDeYN",
        "outputId": "67d2e041-13eb-4182-eee1-954d1bdca156"
      },
      "outputs": [
        {
          "data": {
            "text/plain": [
              "[Text(0, 0.5, 'No'), Text(0, 1.5, 'Yes')]"
            ]
          },
          "execution_count": 8,
          "metadata": {},
          "output_type": "execute_result"
        },
        {
          "data": {
            "image/png": "[encoded data removed]",
            "text/plain": [
              "<Figure size 640x480 with 2 Axes>"
            ]
          },
          "metadata": {},
          "output_type": "display_data"
        }
      ],
      "source": [
        "from sklearn.metrics import confusion_matrix\n",
        "cm = confusion_matrix(y_test, y_pred)\n",
        "ax = plt.subplot()\n",
        "sns.heatmap(cm, annot = True, ax = ax)\n",
        "\n",
        "ax.set_xlabel(\"Actual\");\n",
        "ax.set_ylabel(\"Predicted\");\n",
        "ax.set_title(\"Confusion_matrix\");\n",
        "ax.xaxis.set_ticklabels(['No', 'Yes']); ax.yaxis.set_ticklabels(['No', 'Yes'])"
      ]
    },
    {
      "cell_type": "code",
      "execution_count": 9,
      "metadata": {
        "id": "BvNZdTKcPLH1"
      },
      "outputs": [],
      "source": [
        "import pickle\n",
        "filename = \"loan_model.pkl\"\n",
        "with open(\"loan_model.pkl\", \"wb\") as fle:\n",
        "  pickle.dump(classifier, fle)"
      ]
    }
  ],
  "metadata": {
    "colab": {
      "authorship_tag": "ABX9TyOnlbP6EPfHKQ1gBvN1jkFZ",
      "include_colab_link": true,
      "provenance": []
    },
    "kernelspec": {
      "display_name": "Python 3",
      "name": "python3"
    },
    "language_info": {
      "name": "python",
      "version": "3.12.2"
    }
  },
  "nbformat": 4,
  "nbformat_minor": 0
}
